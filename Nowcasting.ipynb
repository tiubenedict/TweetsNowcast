{
 "cells": [
  {
   "attachments": {},
   "cell_type": "markdown",
   "metadata": {},
   "source": [
    "# Nowcasting"
   ]
  },
  {
   "cell_type": "markdown",
   "metadata": {},
   "source": [
    "## Packages and Setting"
   ]
  },
  {
   "cell_type": "code",
   "execution_count": null,
   "metadata": {},
   "outputs": [],
   "source": [
    "import warnings\n",
    "import numpy as np\n",
    "import pandas as pd\n",
    "import datetime as dt\n",
    "import matplotlib.pyplot as plt\n",
    "from statsmodels.tsa.ar_model import AutoReg\n",
    "from dateutil.relativedelta import relativedelta\n",
    "from sklearn.linear_model import ElasticNet, Ridge, Lasso\n",
    "from ExtendedDynamicFactor import ExtendedDynamicFactor, OptimizeExtendedDynamicFactor\n",
    "\n",
    "from NowcastingPipeline import NowcastingPH\n",
    "\n",
    "%matplotlib inline\n",
    "warnings.filterwarnings(\"ignore\")\n",
    "pd.options.mode.chained_assignment = None\n",
    "pd.set_option('display.max_columns', None)\n",
    "pd.set_option('display.width', None)\n",
    "pd.set_option('display.expand_frame_repr', False)"
   ]
  },
  {
   "attachments": {},
   "cell_type": "markdown",
   "metadata": {},
   "source": [
    "## Dynamic Factor Model"
   ]
  },
  {
   "cell_type": "code",
   "execution_count": null,
   "metadata": {},
   "outputs": [],
   "source": [
    "class NowcastingDFM(NowcastingPH):\n",
    "    def fit_model(self, vintage, window, DFM_order, optimize_order, **kwargs):\n",
    "        df, gdp_scaler, econ_scaler = self.load_data(vintage, window, **kwargs)\n",
    "        factor_order, error_order, k_factors, factor_lag = DFM_order\n",
    "\n",
    "        if optimize_order:\n",
    "            model_ = OptimizeExtendedDynamicFactor(\n",
    "                endog=df, k_factors_max=k_factors, factor_lag_max=factor_lag, factor_order_max=factor_order, \n",
    "                error_order=error_order, **kwargs\n",
    "            ).optimize(**kwargs)\n",
    "        else:\n",
    "            model_ = ExtendedDynamicFactor(\n",
    "                endog=df, k_factors=k_factors, factor_lag=factor_lag, factor_order=factor_order, \n",
    "                error_order=error_order, **kwargs\n",
    "            )\n",
    "        model = model_.fit(disp=False, maxiter=1000, method='powell', ftol=1e-5, **kwargs)\n",
    "        DFM_order = (model_.factor_order, model_.error_order, model_.k_factors, model_.factor_lag)\n",
    "        self.prefix = 'DFM_Opt' if optimize_order else f'DFM{DFM_order}'    # Override class name\n",
    "        \n",
    "        nowcasts = model.predict(start=f'{vintage.year}Q1', end=f'{vintage.year}Q4')[['GDP']]\n",
    "        nowcasts = list(gdp_scaler.inverse_transform(nowcasts[['GDP']]).flatten())\n",
    "        model_desc = f'DFM{DFM_order}'\n",
    "\n",
    "        return nowcasts, model_desc"
   ]
  },
  {
   "cell_type": "code",
   "execution_count": null,
   "metadata": {},
   "outputs": [],
   "source": [
    "model = NowcastingDFM(DFM_order=(1,0,1,0), optimize_order=False) # order = factor_order, error_order, k_factors, factor_lag\n",
    "summary = model.run(window=25, save_aggregate=False)\n",
    "# summary = pd.read_csv('Results/DFM(1, 0, 1, 0)_W25_TE_summary.csv', parse_dates=['date'])\n",
    "tweets = model.load_tweets('2023-01-01').loc[dt.datetime(2017,1,1):,:]\n",
    "tweets.index = tweets.index.to_timestamp()\n",
    "\n",
    "fig, axs = plt.subplots(3, 1, figsize=(10, 10), sharex=True)\n",
    "axs[0].plot(summary['date'], summary['Nowcast_A'], linewidth=0, marker='*', label='Nowcast')\n",
    "axs[0].plot(summary['date'], summary['Actual_A'], label='Actual')\n",
    "axs[0].legend()\n",
    "axs[0].set_title('Annual GDP Growth')\n",
    "axs[1].plot(summary['date'], summary['Nowcast_Q'], linewidth=0, marker='*', label='Nowcast')\n",
    "axs[1].plot(summary['date'], summary['Actual_Q'], label='Actual')\n",
    "axs[1].legend()\n",
    "axs[1].set_title('Quarter GDP Growth')\n",
    "for metric in tweets.columns:\n",
    "    axs[2].plot(tweets.index, tweets[metric], label=metric, alpha=0.5)\n",
    "axs[2].legend()\n",
    "axs[2].set_title('Tweet Metrics')\n",
    "fig.show()\n",
    "summary"
   ]
  },
  {
   "attachments": {},
   "cell_type": "markdown",
   "metadata": {},
   "source": [
    "## Machine Learning"
   ]
  },
  {
   "cell_type": "code",
   "execution_count": null,
   "metadata": {},
   "outputs": [],
   "source": [
    "class NowcastingML(NowcastingPH):\n",
    "    def fit_model(self, vintage, window, lag_order, **kwargs):\n",
    "        df, gdp_scaler, econ_scaler = self.load_data(vintage, window, **kwargs)\n",
    "        gdp_lag, tweet_lag, econ_lag = lag_order\n",
    "\n",
    "        lagged_df = ([df] + [df[['GDP']].shift(l).add_suffix(f'.Q{l}') for l in range(1, gdp_lag + 1)] + \n",
    "                      [df[[col for col in df.columns if 'TWT' in col]].shift(l).add_suffix(f'.Q{l}') for l in range(1, tweet_lag + 1)] +\n",
    "                      [df[[col for col in df.columns if 'ECN' in col]].shift(l).add_suffix(f'.Q{l}') for l in range(1, econ_lag + 1)])\n",
    "        df = pd.concat(lagged_df, axis=1)\n",
    "        df = df.loc[:, ~df.T.duplicated(keep='first')]\n",
    "\n",
    "        X_test = df.loc[vintage + relativedelta(month=3):, df.columns.drop('GDP')].dropna()\n",
    "        df_train = df.loc[:vintage - relativedelta(months=3), :].dropna()\n",
    "        X_train = df_train.loc[:, df_train.columns.drop('GDP')]\n",
    "        y_train = df_train.loc[:, 'GDP']\n",
    "        \n",
    "        model = ElasticNet()\n",
    "        model.fit(X_train, y_train)\n",
    "        self.prefix = f'ENet{lag_order}'    # Override class name\n",
    "\n",
    "        nowcasts = model.predict(X_test).reshape(-1,1)\n",
    "        nowcasts = list(gdp_scaler.inverse_transform(nowcasts).flatten())\n",
    "        model_desc = f'ENet{lag_order}'\n",
    "\n",
    "        return nowcasts, model_desc"
   ]
  },
  {
   "cell_type": "code",
   "execution_count": null,
   "metadata": {},
   "outputs": [],
   "source": [
    "model = NowcastingML(lag_order=(2,1,1)) # order = gdp_lag, tweet_lag, econ_lag\n",
    "summary = model.run(window=25, save_aggregate=False)\n",
    "# summary = pd.read_csv('Results/ENet(2, 1, 1)_W25_TE_summary.csv', parse_dates=['date'])\n",
    "tweets = model.load_tweets('2023-01-01').loc[dt.datetime(2017,1,1):,:]\n",
    "tweets.index = tweets.index.to_timestamp()\n",
    "\n",
    "fig, axs = plt.subplots(3, 1, figsize=(10, 10), sharex=True)\n",
    "axs[0].plot(summary['date'], summary['Nowcast_A'], linewidth=0, marker='*', label='Nowcast')\n",
    "axs[0].plot(summary['date'], summary['Actual_A'], label='Actual')\n",
    "axs[0].legend()\n",
    "axs[0].set_title('Annual GDP Growth')\n",
    "axs[1].plot(summary['date'], summary['Nowcast_Q'], linewidth=0, marker='*', label='Nowcast')\n",
    "axs[1].plot(summary['date'], summary['Actual_Q'], label='Actual')\n",
    "axs[1].legend()\n",
    "axs[1].set_title('Quarter GDP Growth')\n",
    "for metric in tweets.columns:\n",
    "    axs[2].plot(tweets.index, tweets[metric], label=metric, alpha=0.5)\n",
    "axs[2].legend()\n",
    "axs[2].set_title('Tweet Metrics')\n",
    "fig.show()\n",
    "summary"
   ]
  },
  {
   "attachments": {},
   "cell_type": "markdown",
   "metadata": {},
   "source": [
    "## Autoregression"
   ]
  },
  {
   "cell_type": "code",
   "execution_count": null,
   "metadata": {},
   "outputs": [],
   "source": [
    "class NowcastingAR(NowcastingPH):\n",
    "    def fit_model(self, vintage, window, AR_order, **kwargs):\n",
    "        df, gdp_scaler, econ_scaler = self.load_data(vintage, window, **kwargs)\n",
    "\n",
    "        model = AutoReg(df['GDP'].dropna(), lags=AR_order).fit()\n",
    "        self.prefix = 'AR(1)'    # Override class name\n",
    "        \n",
    "        nowcasts = model.predict(start=f'{vintage.year}Q1', end=f'{vintage.year}Q4').to_numpy().reshape(-1,1)\n",
    "        nowcasts = list(gdp_scaler.inverse_transform(nowcasts).flatten())\n",
    "        model_desc = 'AR(1)'\n",
    "\n",
    "        return nowcasts, model_desc"
   ]
  },
  {
   "cell_type": "code",
   "execution_count": null,
   "metadata": {},
   "outputs": [],
   "source": [
    "model = NowcastingAR(AR_order=1)\n",
    "summary = model.run(window=25, save_aggregate=False)\n",
    "# summary = pd.read_csv('Results/AR(1)_W25_TE_summary.csv', parse_dates=['date'])\n",
    "tweets = model.load_tweets('2023-01-01').loc[dt.datetime(2017,1,1):,:]\n",
    "tweets.index = tweets.index.to_timestamp()\n",
    "\n",
    "fig, axs = plt.subplots(3, 1, figsize=(10, 10), sharex=True)\n",
    "axs[0].plot(summary['date'], summary['Nowcast_A'], linewidth=0, marker='*', label='Nowcast')\n",
    "axs[0].plot(summary['date'], summary['Actual_A'], label='Actual')\n",
    "axs[0].legend()\n",
    "axs[0].set_title('Annual GDP Growth')\n",
    "axs[1].plot(summary['date'], summary['Nowcast_Q'], linewidth=0, marker='*', label='Nowcast')\n",
    "axs[1].plot(summary['date'], summary['Actual_Q'], label='Actual')\n",
    "axs[1].legend()\n",
    "axs[1].set_title('Quarter GDP Growth')\n",
    "for metric in tweets.columns:\n",
    "    axs[2].plot(tweets.index, tweets[metric], label=metric, alpha=0.5)\n",
    "axs[2].legend()\n",
    "axs[2].set_title('Tweet Metrics')\n",
    "fig.show()\n",
    "summary"
   ]
  }
 ],
 "metadata": {
  "kernelspec": {
   "display_name": "Python 3.9.12 ('base')",
   "language": "python",
   "name": "python3"
  },
  "language_info": {
   "codemirror_mode": {
    "name": "ipython",
    "version": 3
   },
   "file_extension": ".py",
   "mimetype": "text/x-python",
   "name": "python",
   "nbconvert_exporter": "python",
   "pygments_lexer": "ipython3",
   "version": "3.9.12"
  },
  "vscode": {
   "interpreter": {
    "hash": "912f7fec6d142835d8bc345c49717af8ab053dbe34634e5a7992729e29ff09d1"
   }
  }
 },
 "nbformat": 4,
 "nbformat_minor": 2
}
