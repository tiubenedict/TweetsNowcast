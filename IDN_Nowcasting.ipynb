{
 "cells": [
  {
   "cell_type": "markdown",
   "metadata": {},
   "source": [
    "# Dynamic Factor Model"
   ]
  },
  {
   "cell_type": "markdown",
   "metadata": {},
   "source": [
    "## Packages and Setting"
   ]
  },
  {
   "cell_type": "code",
   "execution_count": null,
   "metadata": {},
   "outputs": [],
   "source": [
    "import os\n",
    "import math\n",
    "import warnings\n",
    "import numpy as np\n",
    "import pandas as pd\n",
    "import datetime as dt\n",
    "from functools import reduce\n",
    "import matplotlib.pyplot as plt\n",
    "from dateutil.relativedelta import relativedelta\n",
    "from sklearn.preprocessing import StandardScaler\n",
    "from ExtendedDynamicFactor import ExtendedDynamicFactor, OptimizeExtendedDynamicFactor\n",
    "\n",
    "%matplotlib inline\n",
    "warnings.filterwarnings(\"ignore\")\n",
    "pd.options.mode.chained_assignment = None\n",
    "pd.set_option('display.max_columns', None)\n",
    "pd.set_option('display.width', None)\n",
    "pd.set_option('display.expand_frame_repr', False)"
   ]
  },
  {
   "cell_type": "markdown",
   "metadata": {},
   "source": [
    "## Loading Dataset"
   ]
  },
  {
   "cell_type": "code",
   "execution_count": null,
   "metadata": {},
   "outputs": [],
   "source": [
    "def load_gdp(growth=True, quarterly=True, **kwargs):\n",
    "    gdp = pd.read_csv('data/GDP_2014USD.csv')[['date', 'PH']].rename(columns={'PH': 'GDP'}).dropna()\n",
    "    gdp['date'] = pd.to_datetime(gdp['date'])\n",
    "    gdp = gdp.set_index('date')\n",
    "    if quarterly:\n",
    "        gdp = gdp.resample('Q').sum()\n",
    "        gdp = 100 * (gdp / gdp.shift(4) - 1) if growth else gdp\n",
    "    else:\n",
    "        gdp = gdp.resample('Y').sum()\n",
    "        gdp = 100 * (gdp / gdp.shift(1) - 1) if growth else gdp\n",
    "\n",
    "    return gdp.dropna()"
   ]
  },
  {
   "cell_type": "code",
   "execution_count": null,
   "metadata": {},
   "outputs": [],
   "source": [
    "def load_tweets(keywords=['PE'], metrics=['TBweight_cl2rt', 'VADERweight_cl2rt'], **kwargs):\n",
    "    tweets = pd.read_csv('data/PH_Tweets.csv')\n",
    "    tweets['date'] = pd.to_datetime(tweets['date'])\n",
    "    tweets = tweets.set_index('date')\n",
    "    keywords = keywords if len(keywords) > 0 else list(tweets['keyword'].unique())\n",
    "    metrics = metrics if len(metrics) > 0 else list(tweets.columns.drop(['keyword']))\n",
    "    tweets = tweets[metrics + ['keyword']]\n",
    "    tweets_keyword = [tweets[tweets['keyword'] == keyword].drop(columns=['keyword']).add_suffix(f'_{keyword}') for keyword in keywords]\n",
    "    tweets = reduce(lambda left, right: pd.merge(left, right, on='date', how='outer', sort=True), tweets_keyword)\n",
    "\n",
    "    return tweets"
   ]
  },
  {
   "cell_type": "code",
   "execution_count": null,
   "metadata": {},
   "outputs": [],
   "source": [
    "def load_data(vintage, window=0, **kwargs):\n",
    "    # READ GDP DATA\n",
    "    lag = 41\n",
    "    gdp = load_gdp(**kwargs)\n",
    "    gdp = gdp.loc[dt.datetime(2010,1,1) : pd.to_datetime(vintage) - relativedelta(days=lag), :]\n",
    "    gdp_scaler = StandardScaler().fit(gdp[['GDP']])\n",
    "    gdp['GDP'] = gdp_scaler.transform(gdp[['GDP']])\n",
    "    gdp.index = pd.PeriodIndex(gdp.index, freq='M')\n",
    "\n",
    "    # READ TWEET DATA\n",
    "    tweets = load_tweets(**kwargs)\n",
    "    tweets = tweets.loc[dt.datetime(2010,1,1) : pd.to_datetime(vintage), :]\n",
    "    tweets.index = pd.PeriodIndex(tweets.index, freq='M')\n",
    "    \n",
    "    # MERGE DATA\n",
    "    while tweets.index[-1].month % 3 != 0:\n",
    "        tweets.loc[tweets.index[-1] + pd.offsets.MonthEnd(1), :] = np.nan\n",
    "    tweets = pd.concat([tweets.shift(l).add_suffix(f'.L{l}') for l in range(3)], axis=1)\n",
    "    tweets = tweets.loc[tweets.index.month % 3 == 0, :]\n",
    "    df = pd.merge(tweets, gdp, how='outer', on='date', sort=True)\n",
    "    df.index = pd.PeriodIndex(df.index, freq='Q')\n",
    "    df = df.tail(math.ceil(window / 3)) if window > 0 else df\n",
    "\n",
    "    return df, gdp_scaler"
   ]
  },
  {
   "attachments": {},
   "cell_type": "markdown",
   "metadata": {},
   "source": [
    "## Quarter to Annual GDP Growth Conversion"
   ]
  },
  {
   "cell_type": "code",
   "execution_count": null,
   "metadata": {},
   "outputs": [],
   "source": [
    "def quarter_to_annual(vintage, nowcasts):\n",
    "    # LOAD GDP DATA\n",
    "    lag = 41\n",
    "    quarter_gdp = load_gdp(False, True)\n",
    "    quarter_gdp = quarter_gdp.loc[dt.datetime(2010,1,1) : pd.to_datetime(vintage) - relativedelta(days=lag), :]\n",
    "    quarter_gdp.index = pd.PeriodIndex(quarter_gdp.index, 'Q')\n",
    "    annual_gdp = load_gdp(False, False)\n",
    "    annual_gdp = annual_gdp.loc[dt.datetime(2010,1,1) : pd.to_datetime(vintage) - relativedelta(days=lag), :]\n",
    "    annual_gdp.index = pd.PeriodIndex(annual_gdp.index, 'Y')\n",
    "\n",
    "    # GET QUARTERLY GDP\n",
    "    for m in range(4):\n",
    "        quarter = 3 * (m + 1)\n",
    "        prev_quarter = vintage - relativedelta(years=1) + relativedelta(month=quarter)\n",
    "        nowcasts[m] = quarter_gdp.loc[prev_quarter, 'GDP'] * (1 + nowcasts[m] / 100)\n",
    "        # PAD OBSERVED\n",
    "        curr_quarter = vintage + relativedelta(month=quarter)\n",
    "        nowcasts[m] = quarter_gdp.loc[curr_quarter, 'GDP'] if curr_quarter in quarter_gdp.index else nowcasts[m]\n",
    "    \n",
    "    # GET ANNUAL GDP GROWTH\n",
    "    prev_year = vintage - relativedelta(years=1)\n",
    "    return 100 * (np.sum(nowcasts) / annual_gdp.loc[prev_year, 'GDP'] - 1)"
   ]
  },
  {
   "cell_type": "markdown",
   "metadata": {},
   "source": [
    "## Model Fitting & Nowcasting"
   ]
  },
  {
   "cell_type": "code",
   "execution_count": null,
   "metadata": {},
   "outputs": [],
   "source": [
    "def load_DFMmodel(vintage_now, factor_order, error_order, k_factors, factor_lag, window, optimize_order, **kwargs):\n",
    "    # LOAD DATA\n",
    "    df, gdp_scaler = load_data(vintage_now, window, **kwargs)\n",
    "    \n",
    "    # FIT MODEL\n",
    "    if optimize_order:\n",
    "        model = OptimizeExtendedDynamicFactor(\n",
    "            endog=df, k_factors_max=k_factors, factor_lag_max=factor_lag, factor_order_max=factor_order, \n",
    "            error_order=error_order, **kwargs\n",
    "        ).optimize(**kwargs)\n",
    "    else:\n",
    "        model = ExtendedDynamicFactor(\n",
    "            endog=df, k_factors=k_factors, factor_lag=factor_lag, factor_order=factor_order, \n",
    "            error_order=error_order, **kwargs\n",
    "        )\n",
    "    results = model.fit(disp=False, maxiter=1000, method='powell', ftol=1e-5, **kwargs)\n",
    "    \n",
    "    return results, (model.factor_order, model.error_order, model.k_factors, model.factor_lag), gdp_scaler"
   ]
  },
  {
   "cell_type": "code",
   "execution_count": null,
   "metadata": {},
   "outputs": [],
   "source": [
    "def runDFM(factor_order, error_order, k_factors, factor_lag, window=0, optimize_order=False, **kwargs):\n",
    "    # PRINT SPECIFICATIONS\n",
    "    print(f'DFM Order: ({factor_order}, {error_order}, {k_factors}, {factor_lag})')\n",
    "    if optimize_order:\n",
    "        print('[WARNING] Input orders are used as upper limits with optimize_order')\n",
    "    print(f'Window: {window}')\n",
    "\n",
    "    # LOAD ACTUAL GDP\n",
    "    actual_gdp = load_gdp(True, False)\n",
    "    actual_gdp.index = pd.PeriodIndex(actual_gdp.index, 'Y')\n",
    "\n",
    "    # SAVED RESULTS\n",
    "    results = []\n",
    "    if not os.path.exists(f'Results'):\n",
    "        os.makedirs(f'Results')\n",
    "\n",
    "    # FORECAST DATES   \n",
    "    vintage_now = dt.datetime(2017, 1, 1)\n",
    "    vintage_end = dt.datetime(2021, 12, 1)\n",
    "    delta = relativedelta(months=1)\n",
    "\n",
    "    while vintage_now <= vintage_end:\n",
    "        # GET ACTUAL GDP\n",
    "        actual = actual_gdp.loc[vintage_now, 'GDP']\n",
    "        \n",
    "        try:\n",
    "            # FIT MODEL\n",
    "            model, (factor_order, error_order, k_factors, factor_lag), gdp_scaler = load_DFMmodel(vintage_now, factor_order, error_order, k_factors, factor_lag, window, optimize_order, **kwargs)\n",
    "            \n",
    "            # CURRENT VINTAGE\n",
    "            print(f'Vintage: {vintage_now.date()} \\t {(factor_order, error_order, k_factors, factor_lag)}')\n",
    "                \n",
    "            # GET FORECASTS\n",
    "            nowcasts = model.predict(start=f'{vintage_now.year}Q1', end=f'{vintage_now.year}Q4')[['GDP']]\n",
    "            nowcasts = list(gdp_scaler.inverse_transform(nowcasts[['GDP']]).squeeze())\n",
    "            nowcast = quarter_to_annual(vintage_now, nowcasts)\n",
    "            \n",
    "            # APPEND RESULTS\n",
    "            results.append([vintage_now, vintage_now.year, (factor_order, error_order, k_factors, factor_lag), nowcast, actual])\n",
    "        \n",
    "        except Exception as ex:\n",
    "            with open(f'Results/{str(vintage_now.date())}_W{window}_error.txt', 'w') as f:\n",
    "                f.write(str(ex))\n",
    "            \n",
    "            results.append([vintage_now, vintage_now.year, (factor_order, error_order, k_factors, factor_lag), np.nan, actual])\n",
    "\n",
    "        vintage_now += delta\n",
    "\n",
    "    # SUMMARIZE RESULTS\n",
    "    results = pd.DataFrame(results, columns=['date', 'Target', 'Order', 'Nowcast', 'Actual'])\n",
    "    results['date'] = pd.to_datetime(results['date'])\n",
    "    results['Period'] = np.where(results['Target'] < 2020, 1, 0)\n",
    "    results['Year'] = results['Target']\n",
    "    results['Month'] = results['date'].dt.month % 12\n",
    "\n",
    "    # RMSE CALCULATIONS\n",
    "    results['Difference'] = results['Nowcast'] - results['Actual']\n",
    "    results['Overall RMSE'] = np.sqrt(np.power(results['Difference'].dropna(), 2).mean())\n",
    "    for period in ['Month', 'Year', 'Period']:\n",
    "        results = results.set_index(period)\n",
    "        results[f'{period} RMSE'] = results.groupby(period).apply(lambda dff: np.sqrt(np.power(dff['Difference'].dropna(), 2).mean()))\n",
    "        results = results.reset_index()\n",
    "    results = results.drop(columns=['Period', 'Year', 'Month'])\n",
    "\n",
    "    # SAVE AGGREGATED RESULTS\n",
    "    if kwargs.get('save_aggregate', True):\n",
    "        header = 'OPT' if optimize_order else f'({factor_order},{error_order},{k_factors},{factor_lag})'\n",
    "        results.to_csv(f'Results/{header}_W{window}_summary.csv', index=False)\n",
    "    \n",
    "    return results"
   ]
  },
  {
   "cell_type": "code",
   "execution_count": null,
   "metadata": {},
   "outputs": [],
   "source": [
    "results = runDFM(factor_order=1, error_order=1, k_factors=1, factor_lag=0, window=0, optimize_order=False)\n",
    "plt.figure(figsize=(10, 5))\n",
    "plt.plot(results['date'], results['Nowcast'], linewidth=0, marker='*', label='Nowcasts')\n",
    "plt.plot(results['date'], results['Actual'], label='Actual')\n",
    "plt.legend()\n",
    "plt.show()\n",
    "results"
   ]
  }
 ],
 "metadata": {
  "kernelspec": {
   "display_name": "Python 3.9.12 ('base')",
   "language": "python",
   "name": "python3"
  },
  "language_info": {
   "codemirror_mode": {
    "name": "ipython",
    "version": 3
   },
   "file_extension": ".py",
   "mimetype": "text/x-python",
   "name": "python",
   "nbconvert_exporter": "python",
   "pygments_lexer": "ipython3",
   "version": "3.9.12"
  },
  "vscode": {
   "interpreter": {
    "hash": "912f7fec6d142835d8bc345c49717af8ab053dbe34634e5a7992729e29ff09d1"
   }
  }
 },
 "nbformat": 4,
 "nbformat_minor": 2
}
